{
 "cells": [
  {
   "cell_type": "markdown",
   "metadata": {},
   "source": [
    "# Aprendizaje Supervisado - Regresión Lineal\n",
    "\n",
    "Busca estimar la línea recta $y=𝑤_0+𝑤_1x$, tal que se minimice la suma de los errores al cuadrado. Tal como lo muestra la imagen a continuación:\n",
    "\n",
    "![Regresión Lineal](imagenes/RegresionLineal.jpg)"
   ]
  },
  {
   "cell_type": "code",
   "execution_count": 1,
   "metadata": {},
   "outputs": [],
   "source": [
    "%matplotlib inline\n",
    "\n",
    "import numpy as np    #Para el manejo de arreglos\n",
    "import pandas as pd   #Para el manejo de conjuntos de datos, tratados como tablas\n",
    "import seaborn as sea #Para la construcción y visualización de gráficos\n",
    "import matplotlib.pyplot as plt #Pra la construcción de gráficos\n",
    "\n",
    "from sklearn.linear_model import LinearRegression # Regresion lineal teórica\n",
    "from sklearn.linear_model import SGDRegressor #Regregsión lineal uando gradiente descendente estocástico\n",
    "from sklearn import metrics #Las métricas de rendimiento de un clasificador\n",
    "from sklearn import model_selection #Para el particionamiento de los conjuntos de datos"
   ]
  },
  {
   "cell_type": "markdown",
   "metadata": {},
   "source": [
    "## 1. Conjunto de Datos de Prueba \n",
    "\n",
    "Iniciamos creando un conjunto de datos de prueba (un ***toy dataset***). Este conjunto de datos se crea con base en la ecuación $y = 4+3x$.\n",
    "\n",
    "Tenga presente que el método de regresión linela nos permite estimar los parámetros de la recta del modelo, que para este caso deberían ser: $𝑤_0=4$ y $𝑤_1=3$."
   ]
  },
  {
   "cell_type": "code",
   "execution_count": 2,
   "metadata": {},
   "outputs": [],
   "source": [
    "#Generamos 100 valores aleatorios en el rango de [0, 2)\n",
    "X = 2 * np.random.rand(100, 1)\n",
    "\n",
    "#Usando la ecuación y = 4 + 3x + ruido Gaussiano, generamos los valores de la varaible de salida\n",
    "y = 4 + 3 * X + np.random.randn(100, 1)"
   ]
  },
  {
   "cell_type": "code",
   "execution_count": 3,
   "metadata": {},
   "outputs": [
    {
     "data": {
      "image/png": "[encoded data removed]",
      "text/plain": [
       "<Figure size 432x288 with 1 Axes>"
      ]
     },
     "metadata": {
      "needs_background": "light"
     },
     "output_type": "display_data"
    }
   ],
   "source": [
    "#Mostramos el conjunto de puntos generados\n",
    "plt.scatter(X, y)\n",
    "plt.xlabel('x')\n",
    "plt.ylabel('y')\n",
    "plt.show()"
   ]
  },
  {
   "cell_type": "markdown",
   "metadata": {},
   "source": [
    "Teóricamente, el método de regresión lineal tiene sentido cuando una de las variables depende de la otra. Esto lo podemos comprobar calculando el coeficiente de corelación."
   ]
  },
  {
   "cell_type": "code",
   "execution_count": 4,
   "metadata": {},
   "outputs": [
    {
     "data": {
      "text/plain": [
       "array([[1.        , 0.86362607],\n",
       "       [0.86362607, 1.        ]])"
      ]
     },
     "execution_count": 4,
     "metadata": {},
     "output_type": "execute_result"
    }
   ],
   "source": [
    "#Para calcular el coeficiente de correlación debemos vectores fila, por eso usamos la transpuesta de cada vector\n",
    "np.corrcoef(X.T, y.T)"
   ]
  },
  {
   "cell_type": "markdown",
   "metadata": {},
   "source": [
    "<div style=\"padding:10px; border-radius:10px; border:2px solid #A43D39; background:#EEEEEE\">\n",
    "<span style=\"color:#A43D39\"><h3>**Nota:**</h3></span> Observe que el valor obtenido para del coeficiente de correlación es un valor baste alto (cercano a 1), lo que nos indica que hay una correlación positiva entre las dos variables.</div>"
   ]
  },
  {
   "cell_type": "markdown",
   "metadata": {},
   "source": [
    "## 2. Regresión lineal usando Algebra Lineal\n",
    "\n",
    "En este caso la solución cerrada (o analítica) consiste en resolver la siguiente ecuacuón:<br/><br/>\n",
    "\n",
    "<span halign=\"center\"> $W = (X^TX)^{-1}X^Ty$ </span>"
   ]
  },
  {
   "cell_type": "code",
   "execution_count": 5,
   "metadata": {},
   "outputs": [
    {
     "name": "stdout",
     "output_type": "stream",
     "text": [
      "Parámetros de la recta: \n",
      "\t w0 = 3.97 \n",
      "\t w1 = 3.00\n"
     ]
    }
   ],
   "source": [
    "#Para usar este método lo primero que hacemos es agregar un columna de 1's\n",
    "#Esto es necesario para compesar la variable x0 (que no existe) que multiplica al parámetro w0\n",
    "X_b = np.c_[np.ones((100, 1)), X]\n",
    "\n",
    "#Ecuación de la solución para encontrar W\n",
    "W = np.linalg.inv(X_b.T.dot(X_b)).dot(X_b.T).dot(y)\n",
    "\n",
    "print('Parámetros de la recta: \\n\\t w0 = %.2f'%W[0], \"\\n\\t w1 = %.2f\"%W[1])"
   ]
  },
  {
   "cell_type": "markdown",
   "metadata": {},
   "source": [
    "<div style=\"padding:10px; border-radius:10px; border:2px solid #A43D39; background:#EEEEEE\">\n",
    "<span style=\"color:#A43D39\"><h3>**Nota:**</h3></span> Analice los parámetros obtenidos, ¿son los que esperabamos?.</div>"
   ]
  },
  {
   "cell_type": "markdown",
   "metadata": {},
   "source": [
    "Usemos los parámetros para predecir el valor de y para dos puntos en X:"
   ]
  },
  {
   "cell_type": "code",
   "execution_count": 7,
   "metadata": {},
   "outputs": [
    {
     "data": {
      "text/plain": [
       "array([[3.97455055],\n",
       "       [9.97790322]])"
      ]
     },
     "execution_count": 7,
     "metadata": {},
     "output_type": "execute_result"
    }
   ],
   "source": [
    "#Creamos dos valores de X para predecir sus y's respectivas\n",
    "X_new = np.array([[0], [2]])\n",
    "\n",
    "#No debemos olvidar agregar la columna de 1's del intercepto\n",
    "X_new_b = np.c_[np.ones((2, 1)), X_new]\n",
    "\n",
    "#Realizamos la predicción con el vector de parámetros W\n",
    "y_predict = X_new_b.dot(W)\n",
    "\n",
    "y_predict"
   ]
  },
  {
   "cell_type": "markdown",
   "metadata": {},
   "source": [
    "Usemos esos dos puntos para pintar la línea recta estimada por el modelo:"
   ]
  },
  {
   "cell_type": "code",
   "execution_count": 32,
   "metadata": {},
   "outputs": [
    {
     "data": {
      "image/png": "[encoded data removed]",
      "text/plain": [
       "<Figure size 432x288 with 1 Axes>"
      ]
     },
     "metadata": {
      "needs_background": "light"
     },
     "output_type": "display_data"
    }
   ],
   "source": [
    "#Mostramos el conjunto de entrenamiento y la recta de la regresión (usando dos puntos de la misma)\n",
    "plt.scatter(X, y, label='Datos')\n",
    "plt.plot(X_new, y_predict, \"r-\", label='Regresión')\n",
    "plt.xlabel('x')\n",
    "plt.ylabel('y')\n",
    "plt.legend()\n",
    "plt.show()\n"
   ]
  },
  {
   "cell_type": "markdown",
   "metadata": {},
   "source": [
    "## 3. Regresión lineal usando estadística\n",
    "\n",
    "En este caso el modelo se estima dando solución directar al intercepto y a la pendiente de la recta así:\n",
    "![Ecuaciones estadísticas](imagenes/f1.png)\n",
    "\n",
    "Veámos como hacerlos en Python"
   ]
  },
  {
   "cell_type": "code",
   "execution_count": 33,
   "metadata": {},
   "outputs": [
    {
     "name": "stdout",
     "output_type": "stream",
     "text": [
      "Parámetros de la recta: \n",
      "\t w0 = 3.81 \n",
      "\t w1 = 3.12\n"
     ]
    }
   ],
   "source": [
    "#Calcula la covarianza\n",
    "cov_xy = np.cov(X.T, y.T, ddof=0)[0, 1]\n",
    "\n",
    "#Calcula la varianza para X\n",
    "var_x = np.var(X, ddof=0)\n",
    "\n",
    "#Encuentra los parámetros\n",
    "w1 = cov_xy / var_x\n",
    "w0 = np.mean(y) - w1*np.mean(X)\n",
    "\n",
    "print('Parámetros de la recta: \\n\\t w0 = %.2f'%w0, \"\\n\\t w1 = %.2f\"%w1)"
   ]
  },
  {
   "cell_type": "markdown",
   "metadata": {},
   "source": [
    "## 4. Regresaión lineal teórica usando Sklearn \n",
    "\n",
    "En el caso de querer usar los métodos de regresión lineal de <span style=\"color:blue; font-family:Courier new\">Sklearn</span> tenemos varias formas de hacerlo. La más común es usar la regresión lineal ordinaria <span style=\"color:blue; font-family:Courier new\">LinearRegression</span>, tal como se muestra a continuación."
   ]
  },
  {
   "cell_type": "code",
   "execution_count": 6,
   "metadata": {},
   "outputs": [
    {
     "name": "stdout",
     "output_type": "stream",
     "text": [
      "Parámetros de la recta: \n",
      "\t w0 = 3.97 \n",
      "\t w1 = 3.00\n"
     ]
    }
   ],
   "source": [
    "#Especifiamos el modelo a usar\n",
    "lr = LinearRegression()\n",
    "\n",
    "#Entrenamos el modelo\n",
    "lr.fit(X, y)\n",
    "\n",
    "#Mostramos los parámetros del modelo\n",
    "print('Parámetros de la recta: \\n\\t w0 = %.2f'%lr.intercept_, \"\\n\\t w1 = %.2f\"%lr.coef_)"
   ]
  },
  {
   "cell_type": "code",
   "execution_count": 8,
   "metadata": {},
   "outputs": [
    {
     "name": "stdout",
     "output_type": "stream",
     "text": [
      "Valores estimados:\n",
      "x1= [0] y1= [3.97455055]\n",
      "x2= [2] y2= [9.97790322]\n"
     ]
    }
   ],
   "source": [
    "#Usamos el modelo entrenado para predecir el valor de Y para los 2 puntos de X antes creados\n",
    "y_predicted = lr.predict(X_new)\n",
    "\n",
    "print(\"Valores estimados:\")\n",
    "print (\"x1=\",X_new[0], \"y1=\",y_predicted[0])\n",
    "print (\"x2=\",X_new[1], \"y2=\",y_predicted[1])"
   ]
  },
  {
   "cell_type": "markdown",
   "metadata": {},
   "source": [
    "## 5. Regresión lineal usando optimización con Sklearn\n",
    "\n",
    "En este caso usamos una clase llamada <span style=\"color:blue; font-family:Courier new\">SGDRegressor</span> la cual implementada una búsqueda usando el algoritmo de Gradiente Descendente Estocástico.\n",
    "\n",
    "Veámos como usarlo."
   ]
  },
  {
   "cell_type": "code",
   "execution_count": 9,
   "metadata": {},
   "outputs": [
    {
     "name": "stdout",
     "output_type": "stream",
     "text": [
      "Parámetros de la recta: \n",
      "\t w0 = 3.97 \n",
      "\t w1 = 3.00\n"
     ]
    }
   ],
   "source": [
    "#Especifiamos el modelo a usar\n",
    "lr_sgd = SGDRegressor(max_iter=50, penalty=None, eta0=0.1)\n",
    "lr_sgd.fit(X, y.ravel())\n",
    "\n",
    "#Mostramos los parámetros del modelo\n",
    "print('Parámetros de la recta: \\n\\t w0 = %.2f'%lr.intercept_, \"\\n\\t w1 = %.2f\"%lr.coef_)"
   ]
  },
  {
   "cell_type": "code",
   "execution_count": 37,
   "metadata": {},
   "outputs": [
    {
     "data": {
      "text/plain": [
       "(100, 1)"
      ]
     },
     "execution_count": 37,
     "metadata": {},
     "output_type": "execute_result"
    }
   ],
   "source": [
    "y.shape"
   ]
  },
  {
   "cell_type": "code",
   "execution_count": 38,
   "metadata": {},
   "outputs": [
    {
     "data": {
      "text/plain": [
       "(100,)"
      ]
     },
     "execution_count": 38,
     "metadata": {},
     "output_type": "execute_result"
    }
   ],
   "source": [
    "y.ravel().shape"
   ]
  },
  {
   "cell_type": "markdown",
   "metadata": {},
   "source": [
    "## 6. Un Ejercicio de Regresión Lineal Múltiple\n",
    "\n",
    "En las secciones anteriores realizamos una regresión lineal considerando solo dos variables. Sin embargo, casi todos los problemas del mundo real tiendenn a tener más de dos variables. La regresión lineal que involucra múltiples variables se llama \"regresión lineal múltiple\" o regresión lineal multivariante. \n",
    "\n",
    "Los pasos para realizar una regresión lineal múltiple son similares a los de la regresión lineal simple y para verlo vamos a trabajar con un conjunto de datos bastante conocido el cual busca predecir la calidad del vino. Esepcíficamente, el conjunto de datos es de algunas variantes de vino tinto, pero por cuestiones de privacidad sólo están disponibles las variables fisicoquímicas (entradas) y sensoriales (la salida). El conjunto de datos no tiene información sobre los varietales, las marcas de vinos, ni sus precios, etc.\n",
    "\n",
    "Entre las variables de entrada están: acidez fija, acidez volátil, ácido cítrico, azúcar residual, cloruros, dióxido de azufre libre, dióxido de azufre total, densidad, pH, sulfatos, alcohol. Sobre la base de estas características, predeciremos la calidad del vino.\n",
    "\n",
    "Ahora,empecemos a codificar."
   ]
  },
  {
   "cell_type": "markdown",
   "metadata": {},
   "source": [
    "### 6.1 Lectura del conjunto de datos\n",
    "\n",
    "Iniciamos cargando el conjunto de datos el cual están en format CSV."
   ]
  },
  {
   "cell_type": "code",
   "execution_count": 11,
   "metadata": {},
   "outputs": [],
   "source": [
    "#Leemos el conjunto de datos como un DataFrame\n",
    "dataset = pd.read_csv('datos/winequality.csv')"
   ]
  },
  {
   "cell_type": "markdown",
   "metadata": {},
   "source": [
    "### 6.2 Exploración del conjunto de datos\n",
    "\n",
    "En la exploración debemos tratar de conocer el conjunto de datos.Primero veamos sus dimensiones."
   ]
  },
  {
   "cell_type": "code",
   "execution_count": 12,
   "metadata": {},
   "outputs": [
    {
     "data": {
      "text/plain": [
       "(1599, 12)"
      ]
     },
     "execution_count": 12,
     "metadata": {},
     "output_type": "execute_result"
    }
   ],
   "source": [
    "#Inciamos mostrando las dimensiones del conjunto de datos\n",
    "dataset.shape"
   ]
  },
  {
   "cell_type": "markdown",
   "metadata": {},
   "source": [
    "La salida anterior nos indica que el conjunto de datos tiene 1599 filas y 12 columnas. Ahora veamos las estadísticas básicas del conjunto de datos usando el comamdo <span style=\"color:blue; font-family:Courier new\">describe()</span>."
   ]
  },
  {
   "cell_type": "code",
   "execution_count": 13,
   "metadata": {},
   "outputs": [
    {
     "data": {
      "text/html": [
       "<div>\n",
       "<style scoped>\n",
       "    .dataframe tbody tr th:only-of-type {\n",
       "        vertical-align: middle;\n",
       "    }\n",
       "\n",
       "    .dataframe tbody tr th {\n",
       "        vertical-align: top;\n",
       "    }\n",
       "\n",
       "    .dataframe thead th {\n",
       "        text-align: right;\n",
       "    }\n",
       "</style>\n",
       "<table border=\"1\" class=\"dataframe\">\n",
       "  <thead>\n",
       "    <tr style=\"text-align: right;\">\n",
       "      <th></th>\n",
       "      <th>fixed acidity</th>\n",
       "      <th>volatile acidity</th>\n",
       "      <th>citric acid</th>\n",
       "      <th>residual sugar</th>\n",
       "      <th>chlorides</th>\n",
       "      <th>free sulfur dioxide</th>\n",
       "      <th>total sulfur dioxide</th>\n",
       "      <th>density</th>\n",
       "      <th>pH</th>\n",
       "      <th>sulphates</th>\n",
       "      <th>alcohol</th>\n",
       "      <th>quality</th>\n",
       "    </tr>\n",
       "  </thead>\n",
       "  <tbody>\n",
       "    <tr>\n",
       "      <th>count</th>\n",
       "      <td>1599.000000</td>\n",
       "      <td>1599.000000</td>\n",
       "      <td>1599.000000</td>\n",
       "      <td>1599.000000</td>\n",
       "      <td>1599.000000</td>\n",
       "      <td>1599.000000</td>\n",
       "      <td>1599.000000</td>\n",
       "      <td>1599.000000</td>\n",
       "      <td>1599.000000</td>\n",
       "      <td>1599.000000</td>\n",
       "      <td>1599.000000</td>\n",
       "      <td>1599.000000</td>\n",
       "    </tr>\n",
       "    <tr>\n",
       "      <th>mean</th>\n",
       "      <td>8.319637</td>\n",
       "      <td>0.527821</td>\n",
       "      <td>0.270976</td>\n",
       "      <td>2.538806</td>\n",
       "      <td>0.087467</td>\n",
       "      <td>15.874922</td>\n",
       "      <td>46.467792</td>\n",
       "      <td>0.996747</td>\n",
       "      <td>3.311113</td>\n",
       "      <td>0.658149</td>\n",
       "      <td>10.422983</td>\n",
       "      <td>5.636023</td>\n",
       "    </tr>\n",
       "    <tr>\n",
       "      <th>std</th>\n",
       "      <td>1.741096</td>\n",
       "      <td>0.179060</td>\n",
       "      <td>0.194801</td>\n",
       "      <td>1.409928</td>\n",
       "      <td>0.047065</td>\n",
       "      <td>10.460157</td>\n",
       "      <td>32.895324</td>\n",
       "      <td>0.001887</td>\n",
       "      <td>0.154386</td>\n",
       "      <td>0.169507</td>\n",
       "      <td>1.065668</td>\n",
       "      <td>0.807569</td>\n",
       "    </tr>\n",
       "    <tr>\n",
       "      <th>min</th>\n",
       "      <td>4.600000</td>\n",
       "      <td>0.120000</td>\n",
       "      <td>0.000000</td>\n",
       "      <td>0.900000</td>\n",
       "      <td>0.012000</td>\n",
       "      <td>1.000000</td>\n",
       "      <td>6.000000</td>\n",
       "      <td>0.990070</td>\n",
       "      <td>2.740000</td>\n",
       "      <td>0.330000</td>\n",
       "      <td>8.400000</td>\n",
       "      <td>3.000000</td>\n",
       "    </tr>\n",
       "    <tr>\n",
       "      <th>25%</th>\n",
       "      <td>7.100000</td>\n",
       "      <td>0.390000</td>\n",
       "      <td>0.090000</td>\n",
       "      <td>1.900000</td>\n",
       "      <td>0.070000</td>\n",
       "      <td>7.000000</td>\n",
       "      <td>22.000000</td>\n",
       "      <td>0.995600</td>\n",
       "      <td>3.210000</td>\n",
       "      <td>0.550000</td>\n",
       "      <td>9.500000</td>\n",
       "      <td>5.000000</td>\n",
       "    </tr>\n",
       "    <tr>\n",
       "      <th>50%</th>\n",
       "      <td>7.900000</td>\n",
       "      <td>0.520000</td>\n",
       "      <td>0.260000</td>\n",
       "      <td>2.200000</td>\n",
       "      <td>0.079000</td>\n",
       "      <td>14.000000</td>\n",
       "      <td>38.000000</td>\n",
       "      <td>0.996750</td>\n",
       "      <td>3.310000</td>\n",
       "      <td>0.620000</td>\n",
       "      <td>10.200000</td>\n",
       "      <td>6.000000</td>\n",
       "    </tr>\n",
       "    <tr>\n",
       "      <th>75%</th>\n",
       "      <td>9.200000</td>\n",
       "      <td>0.640000</td>\n",
       "      <td>0.420000</td>\n",
       "      <td>2.600000</td>\n",
       "      <td>0.090000</td>\n",
       "      <td>21.000000</td>\n",
       "      <td>62.000000</td>\n",
       "      <td>0.997835</td>\n",
       "      <td>3.400000</td>\n",
       "      <td>0.730000</td>\n",
       "      <td>11.100000</td>\n",
       "      <td>6.000000</td>\n",
       "    </tr>\n",
       "    <tr>\n",
       "      <th>max</th>\n",
       "      <td>15.900000</td>\n",
       "      <td>1.580000</td>\n",
       "      <td>1.000000</td>\n",
       "      <td>15.500000</td>\n",
       "      <td>0.611000</td>\n",
       "      <td>72.000000</td>\n",
       "      <td>289.000000</td>\n",
       "      <td>1.003690</td>\n",
       "      <td>4.010000</td>\n",
       "      <td>2.000000</td>\n",
       "      <td>14.900000</td>\n",
       "      <td>8.000000</td>\n",
       "    </tr>\n",
       "  </tbody>\n",
       "</table>\n",
       "</div>"
      ],
      "text/plain": [
       "       fixed acidity  volatile acidity  citric acid  residual sugar  \\\n",
       "count    1599.000000       1599.000000  1599.000000     1599.000000   \n",
       "mean        8.319637          0.527821     0.270976        2.538806   \n",
       "std         1.741096          0.179060     0.194801        1.409928   \n",
       "min         4.600000          0.120000     0.000000        0.900000   \n",
       "25%         7.100000          0.390000     0.090000        1.900000   \n",
       "50%         7.900000          0.520000     0.260000        2.200000   \n",
       "75%         9.200000          0.640000     0.420000        2.600000   \n",
       "max        15.900000          1.580000     1.000000       15.500000   \n",
       "\n",
       "         chlorides  free sulfur dioxide  total sulfur dioxide      density  \\\n",
       "count  1599.000000          1599.000000           1599.000000  1599.000000   \n",
       "mean      0.087467            15.874922             46.467792     0.996747   \n",
       "std       0.047065            10.460157             32.895324     0.001887   \n",
       "min       0.012000             1.000000              6.000000     0.990070   \n",
       "25%       0.070000             7.000000             22.000000     0.995600   \n",
       "50%       0.079000            14.000000             38.000000     0.996750   \n",
       "75%       0.090000            21.000000             62.000000     0.997835   \n",
       "max       0.611000            72.000000            289.000000     1.003690   \n",
       "\n",
       "                pH    sulphates      alcohol      quality  \n",
       "count  1599.000000  1599.000000  1599.000000  1599.000000  \n",
       "mean      3.311113     0.658149    10.422983     5.636023  \n",
       "std       0.154386     0.169507     1.065668     0.807569  \n",
       "min       2.740000     0.330000     8.400000     3.000000  \n",
       "25%       3.210000     0.550000     9.500000     5.000000  \n",
       "50%       3.310000     0.620000    10.200000     6.000000  \n",
       "75%       3.400000     0.730000    11.100000     6.000000  \n",
       "max       4.010000     2.000000    14.900000     8.000000  "
      ]
     },
     "execution_count": 13,
     "metadata": {},
     "output_type": "execute_result"
    }
   ],
   "source": [
    "dataset.describe()"
   ]
  },
  {
   "cell_type": "markdown",
   "metadata": {},
   "source": [
    "### 6.3 Limpieza del conjunto de datos\n",
    "\n",
    "Como el conjunto de datos puede tener valores NaN debemos identificar si hat columnas que los tenga para proceder a hacer la limpieza."
   ]
  },
  {
   "cell_type": "code",
   "execution_count": 15,
   "metadata": {},
   "outputs": [
    {
     "data": {
      "text/plain": [
       "fixed acidity           False\n",
       "volatile acidity        False\n",
       "citric acid             False\n",
       "residual sugar          False\n",
       "chlorides               False\n",
       "free sulfur dioxide     False\n",
       "total sulfur dioxide    False\n",
       "density                 False\n",
       "pH                      False\n",
       "sulphates               False\n",
       "alcohol                 False\n",
       "quality                 False\n",
       "dtype: bool"
      ]
     },
     "execution_count": 15,
     "metadata": {},
     "output_type": "execute_result"
    }
   ],
   "source": [
    "dataset.isnull().any()"
   ]
  },
  {
   "cell_type": "markdown",
   "metadata": {},
   "source": [
    "Podemos ver que todas las columnas dan <span style=\"color:green; font-family:Courier new\">False</span>. Si hubiesemos tenido alguna columna con un resultado <span style=\"color:green; font-family:Courier new\">True</span> deberiamos eliminar los valores NaN, por ejemplo usando la instrucción:"
   ]
  },
  {
   "cell_type": "code",
   "execution_count": 16,
   "metadata": {},
   "outputs": [],
   "source": [
    "dataset = dataset.fillna(method='ffill')"
   ]
  },
  {
   "cell_type": "markdown",
   "metadata": {},
   "source": [
    "### 6.4 Obteniendo la matriz de datos y el vector de etiquetas\n",
    "\n",
    "Lo siguiente es dividir los datos que corresponden a las variables independietes (`X`) y la variable dependiente (`y`). Así la variable `X` contiene todos los atributos (o características) y la variable `y` contiene etiquetas."
   ]
  },
  {
   "cell_type": "code",
   "execution_count": 22,
   "metadata": {},
   "outputs": [],
   "source": [
    "#Hay dos formas de hacerlo: usando los nombres de las columnas\n",
    "X = dataset[['fixed acidity', 'volatile acidity', 'citric acid', 'residual sugar', 'chlorides', 'free sulfur dioxide', 'total sulfur dioxide', 'density', 'pH', 'sulphates','alcohol']].values\n",
    "y = dataset['quality'].values\n",
    "\n",
    "#Usando la notación de recorrido de matrices de numpy\n",
    "X = dataset.values[:,:-1]\n",
    "y = dataset.values[:,-1]"
   ]
  },
  {
   "cell_type": "markdown",
   "metadata": {},
   "source": [
    "Veámos el histograma de frecuencias de la calidad (nuestra variable objetivo)"
   ]
  },
  {
   "cell_type": "code",
   "execution_count": 23,
   "metadata": {},
   "outputs": [
    {
     "name": "stderr",
     "output_type": "stream",
     "text": [
      "C:\\Anaconda3\\lib\\site-packages\\seaborn\\distributions.py:2551: FutureWarning: `distplot` is a deprecated function and will be removed in a future version. Please adapt your code to use either `displot` (a figure-level function with similar flexibility) or `histplot` (an axes-level function for histograms).\n",
      "  warnings.warn(msg, FutureWarning)\n",
      "C:\\Anaconda3\\lib\\site-packages\\matplotlib\\cbook\\__init__.py:2062: FutureWarning: Support for multi-dimensional indexing (e.g. `obj[:, None]`) is deprecated and will be removed in a future version.  Convert to a numpy array before indexing instead.\n",
      "  x[:, None]\n",
      "C:\\Anaconda3\\lib\\site-packages\\matplotlib\\axes\\_base.py:248: FutureWarning: Support for multi-dimensional indexing (e.g. `obj[:, None]`) is deprecated and will be removed in a future version.  Convert to a numpy array before indexing instead.\n",
      "  x = x[:, np.newaxis]\n",
      "C:\\Anaconda3\\lib\\site-packages\\matplotlib\\axes\\_base.py:250: FutureWarning: Support for multi-dimensional indexing (e.g. `obj[:, None]`) is deprecated and will be removed in a future version.  Convert to a numpy array before indexing instead.\n",
      "  y = y[:, np.newaxis]\n"
     ]
    },
    {
     "data": {
      "text/plain": [
       "<matplotlib.axes._subplots.AxesSubplot at 0x1c80cc34da0>"
      ]
     },
     "execution_count": 23,
     "metadata": {},
     "output_type": "execute_result"
    },
    {
     "data": {
      "image/png": "[encoded data removed]",
      "text/plain": [
       "<Figure size 432x360 with 1 Axes>"
      ]
     },
     "metadata": {
      "needs_background": "light"
     },
     "output_type": "display_data"
    }
   ],
   "source": [
    "plt.figure(figsize=(6,5))\n",
    "plt.tight_layout()\n",
    "\n",
    "#Muestra el histograma de frecuencias y la PDF\n",
    "sea.distplot(dataset['quality'], kde=True, hist=True )"
   ]
  },
  {
   "cell_type": "markdown",
   "metadata": {},
   "source": [
    "Como podemos observar, la mayoría de vinos tienen una calidad de 5 o 6."
   ]
  },
  {
   "cell_type": "markdown",
   "metadata": {},
   "source": [
    "### 6.5 Particionamiento del conjunto de datos\n",
    "\n",
    "Ahora dividimos el conjunto usando el 80% de los datos para entrenamiento y 20% para probar el modelo que se genera."
   ]
  },
  {
   "cell_type": "code",
   "execution_count": 24,
   "metadata": {},
   "outputs": [],
   "source": [
    "X_train, X_test, y_train, y_test = model_selection.train_test_split(X, y, test_size=0.2, random_state=0)"
   ]
  },
  {
   "cell_type": "markdown",
   "metadata": {},
   "source": [
    "### 6.6 Entrenamiento del modelo\n",
    "\n",
    "Ahora procedemos a entrenar el modelo de regresión simple."
   ]
  },
  {
   "cell_type": "code",
   "execution_count": 25,
   "metadata": {},
   "outputs": [
    {
     "data": {
      "text/plain": [
       "LinearRegression()"
      ]
     },
     "execution_count": 25,
     "metadata": {},
     "output_type": "execute_result"
    }
   ],
   "source": [
    "#Especifiamos el modelo a usar\n",
    "lr = LinearRegression()\n",
    "\n",
    "#Entrenamos el modelo\n",
    "lr.fit(X_train, y_train)"
   ]
  },
  {
   "cell_type": "markdown",
   "metadata": {},
   "source": [
    "Como se mencionó, en el caso de la regresión lineal multivariable, el modelo de regresión tiene que encontrar los coeficientes óptimos para todos los atributos. \n",
    "\n",
    "Para ver qué coeficientes ha elegido el modelo de regresión hacemos lo siguiente:"
   ]
  },
  {
   "cell_type": "code",
   "execution_count": 26,
   "metadata": {},
   "outputs": [
    {
     "data": {
      "text/html": [
       "<div>\n",
       "<style scoped>\n",
       "    .dataframe tbody tr th:only-of-type {\n",
       "        vertical-align: middle;\n",
       "    }\n",
       "\n",
       "    .dataframe tbody tr th {\n",
       "        vertical-align: top;\n",
       "    }\n",
       "\n",
       "    .dataframe thead th {\n",
       "        text-align: right;\n",
       "    }\n",
       "</style>\n",
       "<table border=\"1\" class=\"dataframe\">\n",
       "  <thead>\n",
       "    <tr style=\"text-align: right;\">\n",
       "      <th></th>\n",
       "      <th>Coefficient</th>\n",
       "    </tr>\n",
       "  </thead>\n",
       "  <tbody>\n",
       "    <tr>\n",
       "      <th>fixed acidity</th>\n",
       "      <td>0.041284</td>\n",
       "    </tr>\n",
       "    <tr>\n",
       "      <th>volatile acidity</th>\n",
       "      <td>-1.149528</td>\n",
       "    </tr>\n",
       "    <tr>\n",
       "      <th>citric acid</th>\n",
       "      <td>-0.177927</td>\n",
       "    </tr>\n",
       "    <tr>\n",
       "      <th>residual sugar</th>\n",
       "      <td>0.027870</td>\n",
       "    </tr>\n",
       "    <tr>\n",
       "      <th>chlorides</th>\n",
       "      <td>-1.873407</td>\n",
       "    </tr>\n",
       "    <tr>\n",
       "      <th>free sulfur dioxide</th>\n",
       "      <td>0.002684</td>\n",
       "    </tr>\n",
       "    <tr>\n",
       "      <th>total sulfur dioxide</th>\n",
       "      <td>-0.002777</td>\n",
       "    </tr>\n",
       "    <tr>\n",
       "      <th>density</th>\n",
       "      <td>-31.516666</td>\n",
       "    </tr>\n",
       "    <tr>\n",
       "      <th>pH</th>\n",
       "      <td>-0.254486</td>\n",
       "    </tr>\n",
       "    <tr>\n",
       "      <th>sulphates</th>\n",
       "      <td>0.924040</td>\n",
       "    </tr>\n",
       "    <tr>\n",
       "      <th>alcohol</th>\n",
       "      <td>0.267797</td>\n",
       "    </tr>\n",
       "  </tbody>\n",
       "</table>\n",
       "</div>"
      ],
      "text/plain": [
       "                      Coefficient\n",
       "fixed acidity            0.041284\n",
       "volatile acidity        -1.149528\n",
       "citric acid             -0.177927\n",
       "residual sugar           0.027870\n",
       "chlorides               -1.873407\n",
       "free sulfur dioxide      0.002684\n",
       "total sulfur dioxide    -0.002777\n",
       "density                -31.516666\n",
       "pH                      -0.254486\n",
       "sulphates                0.924040\n",
       "alcohol                  0.267797"
      ]
     },
     "execution_count": 26,
     "metadata": {},
     "output_type": "execute_result"
    }
   ],
   "source": [
    "#Mostramos los parámetros del modelo\n",
    "coef = pd.DataFrame(lr.coef_, dataset.columns[:-1], columns=['Coefficient'])  \n",
    "coef"
   ]
  },
  {
   "cell_type": "markdown",
   "metadata": {},
   "source": [
    "Esto significa que para una unidad de aumento en la \"Density\", hay una disminución de 31.51 unidades en la calidad del vino. Del mismo modo, una disminución de la unidad en \"Chlorides\" resulta en un aumento de 1.87 unidades en la calidad del vino. Podemos ver que el resto de las características tienen muy poco efecto sobre la calidad del vino."
   ]
  },
  {
   "cell_type": "markdown",
   "metadata": {},
   "source": [
    "### 6.7 Evaluando el modelo entrenado\n",
    "\n",
    "Primero debemos hacer las predicciones sobre los datos de prueba."
   ]
  },
  {
   "cell_type": "code",
   "execution_count": 27,
   "metadata": {},
   "outputs": [
    {
     "data": {
      "text/plain": [
       "array([5.7829301 , 5.03619267, 6.59698929, 5.33912637, 5.93952898,\n",
       "       5.0072068 , 5.39616171, 6.05211188, 4.86760343, 4.95067572,\n",
       "       5.28580441, 5.41265269, 5.7057424 , 5.12921737, 5.52885206,\n",
       "       6.38052412, 6.81012527, 5.73803346, 5.97618825, 5.08613415,\n",
       "       6.34479863, 5.16400983, 5.64203971, 6.1462903 , 5.4817802 ,\n",
       "       5.03391406, 5.18721293, 6.48783659, 5.33301372, 6.30458308,\n",
       "       6.03452293, 5.82849303, 5.58503524, 5.28512701, 5.75656128,\n",
       "       6.15273792, 5.14134479, 5.48228021, 6.38983359, 5.7901819 ,\n",
       "       5.42936928, 6.04810414, 6.70159678, 6.60160183, 5.97253803,\n",
       "       4.78890763, 5.49565005, 6.01881894, 5.48895041, 6.10824243,\n",
       "       5.3126164 , 5.28492351, 5.76043226, 6.36081498, 5.7195388 ,\n",
       "       5.26971928, 5.08498332, 5.31050693, 6.50895816, 5.44323413,\n",
       "       5.16377401, 5.76427324, 6.0703837 , 6.28933679, 5.07315141,\n",
       "       6.11874641, 5.35681067, 6.01343647, 6.12184268, 5.98547673,\n",
       "       5.35327968, 5.4367731 , 5.06017324, 5.58939889, 5.62593935,\n",
       "       6.25651326, 5.37875073, 5.31024191, 5.72008022, 6.30275434,\n",
       "       5.71093253, 5.27783285, 5.89582077, 6.0876033 , 5.50616533,\n",
       "       5.37465715, 6.2437351 , 5.07332478, 5.32665801, 4.97398339,\n",
       "       5.15975198, 5.3222433 , 5.80802642, 5.41018532, 6.20608506,\n",
       "       5.35327968, 6.29102872, 5.3563169 , 5.44615319, 5.91167448,\n",
       "       6.8638794 , 5.95652806, 5.78388971, 6.29371091, 5.59599754,\n",
       "       4.95365311, 5.59599754, 5.42146389, 6.01303846, 5.27638601,\n",
       "       5.88672069, 5.12760247, 6.2448062 , 5.02250118, 5.61019652,\n",
       "       5.78465194, 5.67109764, 6.40669755, 5.80411913, 5.64203971,\n",
       "       5.1425518 , 5.90518858, 5.40535036, 5.08051616, 6.21318148,\n",
       "       6.31555382, 5.31479331, 5.43479319, 6.00371415, 6.44580043,\n",
       "       5.42123137, 5.21176713, 6.0115925 , 5.82456823, 6.30161065,\n",
       "       5.2778688 , 5.89171326, 5.27523169, 6.06991874, 5.33404791,\n",
       "       6.01515226, 5.09525238, 5.49565005, 5.26881614, 5.6457977 ,\n",
       "       5.7407852 , 6.2448062 , 6.40720033, 6.25146759, 5.27789573,\n",
       "       5.91333663, 5.90495368, 5.42146389, 5.51302494, 5.54847605,\n",
       "       5.40070493, 5.08033848, 5.3510922 , 6.22327966, 6.09839802,\n",
       "       5.93181807, 5.58654048, 6.28448742, 5.12182863, 5.92703798,\n",
       "       5.02880639, 6.02096889, 6.48614221, 5.47510197, 5.95369102,\n",
       "       5.96856352, 5.52714605, 4.99032758, 6.61783587, 5.83168392,\n",
       "       6.27155921, 6.1696774 , 6.82398109, 6.09221279, 4.79911152,\n",
       "       5.08007664, 6.97183788, 5.47185136, 6.15652237, 6.76814871,\n",
       "       5.01090071, 5.64760285, 5.78388971, 4.99837302, 6.13355739,\n",
       "       6.07096526, 5.90429107, 5.15557434, 5.46274017, 5.18721745,\n",
       "       5.16438178, 5.28580441, 5.14635187, 5.23327742, 5.13457255,\n",
       "       5.25484703, 6.16206701, 5.16430349, 5.29976489, 5.41360202,\n",
       "       4.95989181, 5.08718841, 6.34194262, 6.02109942, 5.40945753,\n",
       "       5.93102776, 6.16931767, 5.35093909, 6.37326597, 5.00471968,\n",
       "       5.44868099, 5.90152973, 6.03130172, 5.56044971, 5.00135995,\n",
       "       5.03938153, 5.93018212, 6.39367602, 5.74511903, 5.42761053,\n",
       "       6.01275242, 6.38386771, 5.76122648, 4.82219859, 5.46878592,\n",
       "       5.04430938, 5.90506617, 5.06816998, 5.87105926, 6.25707687,\n",
       "       5.63526985, 6.1124061 , 6.58032257, 6.51304421, 6.12637713,\n",
       "       5.34985341, 4.91834558, 5.02633902, 5.10209868, 5.93751622,\n",
       "       4.82726361, 5.58643272, 5.25007252, 4.87286412, 6.34221756,\n",
       "       4.87320824, 5.26969753, 4.89400677, 5.33869588, 5.52716577,\n",
       "       5.53897238, 5.12721593, 5.06001131, 5.13911179, 5.59628108,\n",
       "       5.34085607, 6.96723853, 5.31357668, 5.6468939 , 5.24038769,\n",
       "       4.69060078, 5.33061878, 4.97930332, 5.60209709, 6.49226284,\n",
       "       5.72883634, 5.7319909 , 5.63538976, 6.086924  , 5.92577835,\n",
       "       5.85174439, 6.37461452, 5.18497794, 6.56584684, 6.14312626,\n",
       "       5.37501664, 6.91651759, 5.7319909 , 6.34086207, 5.78421572,\n",
       "       5.18439125, 5.54950551, 5.33360868, 6.269919  , 5.88265344,\n",
       "       5.68163948, 5.42086654, 6.12538899, 5.31406745, 5.19528191,\n",
       "       5.70178575, 5.5675469 , 5.14670499, 5.15556398, 5.24007613,\n",
       "       5.69892321, 5.06382643, 5.35893169, 5.69605721, 6.10381152,\n",
       "       5.84992365, 5.33722415, 5.05158628, 5.59207818, 5.30872494,\n",
       "       5.91032222, 5.92390941, 5.3494868 , 5.3563169 , 5.10159886,\n",
       "       6.55975683, 6.01757571, 6.25129053, 5.16392559, 6.36720517])"
      ]
     },
     "execution_count": 27,
     "metadata": {},
     "output_type": "execute_result"
    }
   ],
   "source": [
    "y_pred = lr.predict(X_test)\n",
    "y_pred"
   ]
  },
  {
   "cell_type": "markdown",
   "metadata": {},
   "source": [
    "Ahora podemos medir que tan bueno es el modelo, usando en este caso el MSE:"
   ]
  },
  {
   "cell_type": "code",
   "execution_count": 28,
   "metadata": {},
   "outputs": [
    {
     "name": "stdout",
     "output_type": "stream",
     "text": [
      "Mean Absolute Error: 0.46963309286611105\n"
     ]
    }
   ],
   "source": [
    "print('Mean Absolute Error:', metrics.mean_absolute_error(y_test, y_pred))  "
   ]
  },
  {
   "cell_type": "code",
   "execution_count": null,
   "metadata": {},
   "outputs": [],
   "source": []
  }
 ],
 "metadata": {
  "kernelspec": {
   "display_name": "Python 3",
   "language": "python",
   "name": "python3"
  },
  "language_info": {
   "codemirror_mode": {
    "name": "ipython",
    "version": 3
   },
   "file_extension": ".py",
   "mimetype": "text/x-python",
   "name": "python",
   "nbconvert_exporter": "python",
   "pygments_lexer": "ipython3",
   "version": "3.6.5"
  }
 },
 "nbformat": 4,
 "nbformat_minor": 2
}
